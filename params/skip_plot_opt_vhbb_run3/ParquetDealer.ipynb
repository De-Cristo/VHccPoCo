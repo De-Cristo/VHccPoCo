{
 "cells": [
  {
   "cell_type": "code",
   "execution_count": 1,
   "id": "5659cdef-e6fd-4d9e-a6bd-a0fc618a1b98",
   "metadata": {},
   "outputs": [],
   "source": [
    "import pandas as pd\n",
    "import os\n",
    "from glob import glob"
   ]
  },
  {
   "cell_type": "code",
   "execution_count": 2,
   "id": "8e0ed30e-e4b1-4b6f-9d07-ba5ed7a5f3e9",
   "metadata": {},
   "outputs": [],
   "source": [
    "era = '2022_postEE'"
   ]
  },
  {
   "cell_type": "code",
   "execution_count": 6,
   "id": "357d04ba-1aac-4c48-b5cc-3ccd618ba3d9",
   "metadata": {},
   "outputs": [],
   "source": [
    "main_directory_path = f'/eos/user/l/lichengz/PourTest_output_vhhh_Zll_SIG_1206/ZH_Hto2B_Zto2L_2022_{era}/DiJet_incl/'\n",
    "subdirectories = [d for d in os.listdir(main_directory_path) if os.path.isdir(os.path.join(main_directory_path, d))]"
   ]
  },
  {
   "cell_type": "code",
   "execution_count": 7,
   "id": "48656226-2cb6-4b2a-989e-176e46df6ce1",
   "metadata": {},
   "outputs": [],
   "source": [
    "dataframes_by_subdir = {}"
   ]
  },
  {
   "cell_type": "code",
   "execution_count": 8,
   "id": "cf252fa8-8dc7-40d7-b07a-625f9dcefd5d",
   "metadata": {},
   "outputs": [
    {
     "name": "stdout",
     "output_type": "stream",
     "text": [
      "\n",
      "Subdirectory: CR_B\n",
      "  Number of events (rows): 3814\n",
      "Columns:\n",
      " - weight\n",
      " - events_nJet\n",
      " - events_dilep_m\n",
      " - events_dilep_pt\n",
      " - events_dilep_dr\n",
      " - events_dilep_deltaPhi\n",
      " - events_dilep_deltaEta\n",
      " - events_dibjet_m\n",
      " - events_dibjet_pt\n",
      " - events_dibjet_dr\n",
      " - events_dibjet_deltaPhi\n",
      " - events_dibjet_deltaEta\n",
      " - events_dibjet_pt_max\n",
      " - events_dibjet_pt_min\n",
      " - events_dibjet_mass_max\n",
      " - events_dibjet_mass_min\n",
      " - events_dibjet_BvsL_max\n",
      " - events_dibjet_BvsL_min\n",
      " - events_dibjet_CvsL_max\n",
      " - events_dibjet_CvsL_min\n",
      " - events_dibjet_CvsB_max\n",
      " - events_dibjet_CvsB_min\n",
      " - events_VHbb_pt_ratio\n",
      " - events_VHbb_deltaPhi\n",
      " - events_VHbb_deltaR\n",
      "\n",
      "Subdirectory: CR_BB\n",
      "  Number of events (rows): 1237\n",
      "\n",
      "Subdirectory: CR_LF\n",
      "  Number of events (rows): 148134\n",
      "\n",
      "Subdirectory: CR_TT\n",
      "  Number of events (rows): 39\n",
      "\n",
      "Subdirectory: SR_2L2B\n",
      "  Number of events (rows): 956\n",
      "\n",
      "Subdirectory: baseline_ZLLHBB_2J\n",
      "  Number of events (rows): 326094\n"
     ]
    }
   ],
   "source": [
    "# Loop through each subdirectory\n",
    "columns_printed = False\n",
    "\n",
    "# Loop through each subdirectory\n",
    "for subdir in subdirectories:\n",
    "    subdir_path = os.path.join(main_directory_path, subdir)\n",
    "    \n",
    "    # Find all Parquet files in the current subdirectory\n",
    "    parquet_files = [os.path.join(subdir_path, f) for f in os.listdir(subdir_path) if f.endswith('.parquet')]\n",
    "    \n",
    "    # Load all Parquet files in the subdirectory as a single DataFrame\n",
    "    df_list = [pd.read_parquet(file) for file in parquet_files]\n",
    "    \n",
    "    # Concatenate the DataFrames within this subdirectory\n",
    "    combined_df = pd.concat(df_list, ignore_index=True)\n",
    "    \n",
    "    # Store the combined DataFrame in the dictionary with the subdirectory name as the key\n",
    "    dataframes_by_subdir[subdir] = combined_df\n",
    "    \n",
    "    # Print the number of events for this subdirectory\n",
    "    num_events = len(combined_df)\n",
    "    print(f\"\\nSubdirectory: {subdir}\")\n",
    "    print(f\"  Number of events (rows): {num_events}\")\n",
    "    \n",
    "    # Print column info only once\n",
    "    if not columns_printed:\n",
    "        columns = combined_df.columns.tolist()\n",
    "        print(\"Columns:\")\n",
    "        for col in columns:\n",
    "            print(f\" - {col}\")\n",
    "        columns_printed = True  # Set flag to True to avoid printing columns again\n",
    "\n",
    "# At this point, `dataframes_by_subdir` holds each subdirectory's data as separate DataFrames"
   ]
  },
  {
   "cell_type": "code",
   "execution_count": null,
   "id": "be84f25f-c47e-46dd-bb43-f708fddf25e4",
   "metadata": {},
   "outputs": [],
   "source": []
  }
 ],
 "metadata": {
  "kernelspec": {
   "display_name": "my_root_env",
   "language": "python",
   "name": "my_root_env"
  },
  "language_info": {
   "codemirror_mode": {
    "name": "ipython",
    "version": 3
   },
   "file_extension": ".py",
   "mimetype": "text/x-python",
   "name": "python",
   "nbconvert_exporter": "python",
   "pygments_lexer": "ipython3",
   "version": "3.8.16"
  }
 },
 "nbformat": 4,
 "nbformat_minor": 5
}
